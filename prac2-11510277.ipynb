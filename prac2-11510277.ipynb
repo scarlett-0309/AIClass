{
 "cells": [
  {
   "cell_type": "markdown",
   "metadata": {},
   "source": [
    "# Introduction to Artificial Intelligence for Non Computing"
   ]
  },
  {
   "cell_type": "markdown",
   "metadata": {},
   "source": [
    "## Practical 2 (weeks 3 - 4)"
   ]
  },
  {
   "cell_type": "markdown",
   "metadata": {},
   "source": [
    "## Search Techniques"
   ]
  },
  {
   "cell_type": "markdown",
   "metadata": {},
   "source": [
    "The following links provide additional information about depth first search and breath first search"
   ]
  },
  {
   "cell_type": "markdown",
   "metadata": {},
   "source": [
    "- Depth first search:   link：https://pan.baidu.com/s/1bkLHKKbSBNpfFuKwDyURqw  password：oy76\n",
    "- Breath first search:  link：https://pan.baidu.com/s/176g5q0W3rGbSAM5tZMraeg   password：7mdh"
   ]
  },
  {
   "cell_type": "markdown",
   "metadata": {},
   "source": [
    "#### Theory Questions "
   ]
  },
  {
   "cell_type": "markdown",
   "metadata": {},
   "source": [
    "1\\. What is an algorithm? A sequence of steps such as a recipe or a movie script.\n",
    "\n",
    "As a movie viewer, please write an algorithm for a process to \"see a movie\". Include details of the following for example (add additional information yourself):\n",
    "\t- The start conditions \n",
    "\t-- I want to watch a movie\n",
    "\t- Roles (people/actors involved) \n",
    "    --watcher,ticket seller\n",
    "    -Equipment required (\"props\")\n",
    "    --seats, ticket etc\n",
    "    - The scenes \n",
    "    -- scene 1 - buy ticket \n",
    "    -- scene 3 \n",
    "    - Results/outcomes\n",
    "    "
   ]
  },
  {
   "cell_type": "markdown",
   "metadata": {},
   "source": [
    "_your answer here..._ \n",
    "\n",
    "***- The start conditions \n",
    "\t-- I want to watch a movie\n",
    "\t- Roles (people/actors involved) \n",
    "    --watcher, ticket seller etc \n",
    "    -Equipment required (\"props\")\n",
    "    --seats, ticket etc\n",
    "    - The scenes\n",
    "    -- scene 1 - buy ticket online\n",
    "    -- scene 2 - take the ticket at the machine \n",
    "    -- scene 3 - the conductor will check the ticket \n",
    "    -- scene 4 - find the right movie hall and take the right seat \n",
    "    -- scene 5 - enjoy the movie\n",
    "    - Results/outcomes\n",
    "    -- I use two hours and enjoy a movie. It made me feel happy and relaxed "
   ]
  },
  {
   "cell_type": "markdown",
   "metadata": {},
   "source": [
    "2\\. A farmer with his wolf, duck and bag of corn come to the east side of a river they wish to cross. There is a boat at the rivers edge, but of course only the farmer can row. The boat can only hold two things (including the rower) at any one time. If the wolf is ever left alone with the duck, the wolf will eat it. Similarly if the duck is ever left alone with the corn, the duck will eat it. How can the farmer get across the river so that all four arrive safely on the other side? "
   ]
  },
  {
   "cell_type": "markdown",
   "metadata": {},
   "source": [
    "_your answer here..._ \n",
    "\n",
    "***"
   ]
  },
  {
   "cell_type": "markdown",
   "metadata": {},
   "source": [
    " _your answer here..._ \n",
    " ****at first:\n",
    "  (wolf,corn,duck,farmer)--------()\n",
    "  1.take the duck to another side\n",
    "  (wolf,corn)------------(duck)\n",
    "  2.go back\n",
    "  3.take the wolf to another side and take duck back\n",
    "   (corn)-----(duck)------(wolf)\n",
    "  4.put off the duck and take the corn to another side\n",
    "  (duck)------------(wolf,corn)\n",
    "  5.go back\n",
    "  6.take the duck to another side\n",
    "   ()------------(wolf,corn,duck,farmer)\n",
    "  "
   ]
  },
  {
   "cell_type": "markdown",
   "metadata": {},
   "source": [
    "3\\.Explain why we determine our problem goals before we write the problem formulation (including the model and deciding what algorithm or techniques to use - for example search, or other method).\n",
    "\n",
    "See Chapter3.1 (Russel & Norvig)"
   ]
  },
  {
   "cell_type": "markdown",
   "metadata": {},
   "source": [
    "_your answer here..._ \n",
    "\n",
    "**** problem goals determine the direction and only know what we want to obtain can we decide whcih problem formulation to write."
   ]
  },
  {
   "cell_type": "markdown",
   "metadata": {},
   "source": [
    "4\\. This question requires you to perform BFS and DFS on paper.\n",
    "\n",
    "<img src=\"img/p1.png\" width=\"180\" height=\"180\" >\n",
    "\n",
    "1. Simulate (on pencil-and-paper) breadth-first search starting from node A when the goal node is K.\n",
    "2. Simulate (on pencil-and-paper) depth first search starting from node A when the goal node is I.\n"
   ]
  },
  {
   "cell_type": "markdown",
   "metadata": {},
   "source": [
    "1. breadth-first searching  from node A TO K\n",
    "     A-B-D-H-K\n",
    "2. depth first search starting from node A TO I.\n",
    "     A-B-D-H-I\n",
    "***"
   ]
  },
  {
   "cell_type": "raw",
   "metadata": {},
   "source": [
    "# 5\\.Consider a state space where the start state is number 1 and each state  k has two successors: numbers 2k and 2k + 1.\n",
    "- a. Draw the portion of the state space for states 1 to 15.\n",
    "- b. Suppose the goal state is 11. List the order in which nodes will be visited for breadthfirst\n",
    "search, depth-limited search with limit 3, and iterative deepening search.\n",
    "- c. How well would bidirectional search work on this problem? What is the branching\n",
    "factor in each direction of the bidirectional search?\n",
    "- d. Does the answer to (c) suggest a reformulation of the problem that would allow you to\n",
    "solve the problem of getting from state 1 to a given goal state with almost no search?\n",
    "- e. Call the action going from k to 2k Left, and the action going to 2k + 1 Right. Can you\n",
    "find an algorithm that outputs the solution to this problem without any search at all?\n",
    "\n",
    "See textbook Chapter3.15"
   ]
  },
  {
   "cell_type": "markdown",
   "metadata": {},
   "source": [
    "_your answer here..._ "
   ]
  },
  {
   "cell_type": "markdown",
   "metadata": {},
   "source": [
    "# Programming Excercises"
   ]
  },
  {
   "cell_type": "markdown",
   "metadata": {},
   "source": [
    "1\\.Write a program to solve a classic ancient Chinese puzzle:  \n",
    " We count 35 heads and 94 legs among the chickens and rabbits in a farm. How many rabbits and how many chickens do we have? "
   ]
  },
  {
   "cell_type": "code",
   "execution_count": null,
   "metadata": {},
   "outputs": [],
   "source": [
    "for i in range(0,35):\n",
    "            if i*2+(35-i)*4 == 94:\n",
    "                print('鸡:',i)\n",
    "                print('兔:',35-i)"
   ]
  },
  {
   "cell_type": "markdown",
   "metadata": {},
   "source": [
    "2\\. _Social networking_ Please look at the graph below of social relationships. You have a mango farm, you need to find a mango buyer and sell him your mango that you have grown (just a small farm). To this end, our principle is to use our social network of friends separated by one degree, and then second degree friends (friends of friends), third degree friends (friends of friends of friends).\n",
    "\n",
    "Use the depth first algorithm to search your network until you find a mango seller. \n",
    "\n",
    "We make an assumption that if the person's name ends with m, then it means the person must be the mango seller!\n",
    "\n",
    "\n",
    "<img src=\"img/p3.png\" width=\"500\" height=\"400\" >"
   ]
  },
  {
   "cell_type": "code",
   "execution_count": 52,
   "metadata": {},
   "outputs": [],
   "source": [
    "## write your answer here!\n",
    "node = ['you','bob','anuj','peppy','alice','claire','jonny','thom']\n",
    "N = [[0,1,0,0,1,1,0,0],\n",
    "    [0,0,1,1,0,0,0,0],\n",
    "    [0,0,0,0,0,0,0,0],\n",
    "    [0,0,0,0,0,0,0,0],\n",
    "    [0,0,0,1,0,0,0,0],\n",
    "    [0,0,0,0,0,0,1,1],\n",
    "    [0,0,0,0,0,0,0,0],\n",
    "    [0,0,0,0,0,0,0,0]]\n",
    "\n",
    "\n",
    "stack_ans = []\n",
    "stack_ans.append(0)\n",
    "\n",
    "stack_rec = []\n",
    "\n",
    "def dfs(stack):\n",
    "    while len(stack)>0:\n",
    "        tmp = stack.pop()\n",
    "        count = 0\n",
    "        if (node[tmp][len(node[tmp])-1]=='m'):\n",
    "            return node[tmp]\n",
    "        for i in N[tmp]:\n",
    "            if(i==1):\n",
    "                stack.append(count)\n",
    "                stack_rec.append(dfs(stack))\n",
    "                cur = stack_rec.pop()\n",
    "                if(cur[len(cur)-1]=='m'):\n",
    "                    return cur\n",
    "            count = count +1\n",
    "        return 'Nobody'\n",
    "    \n",
    "print(dfs(stack_ans)+\" is the mango seller\")"
   ]
  },
  {
   "cell_type": "markdown",
   "metadata": {},
   "source": [
    "3\\. Depth First traverse：Use depth first traversal to traverse all the DLL files on the C disk and output the file names.\n",
    "\n",
    "Update your code to search for a particular filename.\n",
    "\n",
    "What protocol did you use to select the next node to expand on the fringe?"
   ]
  },
  {
   "cell_type": "code",
   "execution_count": 7,
   "metadata": {},
   "outputs": [
    {
     "name": "stdout",
     "output_type": "stream",
     "text": [
      "文件 F:\\深度遍历测试\n"
     ]
    }
   ],
   "source": [
    "## write your answer here!\n",
    "import os\n",
    "class depth:\n",
    "    def __init__(self,path):\n",
    "        self.path = path\n",
    "        self.MyList =[]\n",
    "        self.MyList.append(self.path)#列表添加根目录\n",
    "\n",
    "    def search(self):\n",
    "        while len(self.MyList) !=0:\n",
    "            path =self.MyList.pop()\n",
    "            if os.path.isdir(path):#判断是否为文件夹\n",
    "                print(\"文件夹\",path)\n",
    "                myFileList =os.listdir(path)\n",
    "                for line in myFileList:\n",
    "                    myPath =path+\"\\\\\"+line#绝对路径\n",
    "                    if os.path.isdir(myPath):\n",
    "                        self.MyList.append(myPath)\n",
    "                    else:\n",
    "                        print(\"文件\",myPath)\n",
    "            else:\n",
    "                print(\"文件\",path)\n",
    "\n",
    "    def __del__(self):\n",
    "        pass\n",
    "path =r\"F:\\深度遍历测试\"#根目录\n",
    "file =depth(path)\n",
    "file.search()"
   ]
  },
  {
   "cell_type": "markdown",
   "metadata": {},
   "source": [
    "4\\.\n",
    "Breadth First traverse：Use breadth traversal to traverse all the DLL files on the C disk and output the filename.\n",
    "\n",
    "Update your code to search for a particular filename."
   ]
  },
  {
   "cell_type": "code",
   "execution_count": null,
   "metadata": {},
   "outputs": [],
   "source": [
    "## write your answer here!"
   ]
  },
  {
   "cell_type": "markdown",
   "metadata": {},
   "source": [
    "5\\. Uniform cost search"
   ]
  },
  {
   "cell_type": "markdown",
   "metadata": {},
   "source": [
    "Consider a state space where the start state is 2 and each state k has three successors: numbers 2k, 2k+1, 2k+2. The cost from state k to each respective child is k, ground(k/2), k+2.\n",
    "\n",
    "can you implement a uniform-cost-search algorithm with python. The goal state is number 85."
   ]
  },
  {
   "cell_type": "markdown",
   "metadata": {},
   "source": [
    "6\\.a* question"
   ]
  },
  {
   "cell_type": "markdown",
   "metadata": {},
   "source": [
    "A cute cat stays in the A position, he is hungry. But the food is placed in the B position. Can you help him to find the food? \n",
    "Hint:  The problem isn't easy. It's essential for you to understand the A* algorithm before you solve this problem. Then, you can use some thought of Node in java, when you are in code.\n",
    "\n",
    "<img src=\"img/p4.png\" width=\"500\" height=\"400\" >\n"
   ]
  },
  {
   "cell_type": "code",
   "execution_count": null,
   "metadata": {},
   "outputs": [],
   "source": [
    "## write your answer here!\n",
    "import numpy\n",
    "from heapq import heappush,heappop\n",
    "\n",
    "\n",
    "def heuristic_cost_estimate(neighbor, goal):\n",
    "    x = neighbor[0] - goal[0]\n",
    "    y = neighbor[1] - goal[1]\n",
    "    return abs(x) + abs(y)\n",
    "\n",
    "\n",
    "def dist_between(a, b):\n",
    "    return (b[0] - a[0]) ** 2 + (b[1] - a[1]) ** 2\n",
    "\n",
    "\n",
    "def reconstruct_path(came_from, current):\n",
    "    path = [current]\n",
    "    while current in came_from:\n",
    "        current = came_from[current]\n",
    "        path.append(current)\n",
    "    return path\n",
    "\n",
    "\n",
    "\n",
    "# astar function returns a list of points (shortest path)\n",
    "def astar(array, start, goal):\n",
    "\n",
    "    directions = [(0,1),(0,-1),(1,0),(-1,0),(1,1),(1,-1),(-1,1),(-1,-1)] # 8个方向\n",
    "\n",
    "    close_set = set()\n",
    "    came_from = {}\n",
    "    gscore = {start:0}\n",
    "    fscore = {start:heuristic_cost_estimate(start, goal)}\n",
    "    \n",
    "    openSet = []\n",
    "    heappush(openSet, (fscore[start], start))   # 往堆中插入一条新的值 \n",
    "            \n",
    "    # while openSet is not empty\n",
    "    while openSet:  \n",
    "        # current := the node in openSet having the lowest fScore value\n",
    "        current = heappop(openSet)[1]   # 从堆中弹出fscore最小的节点 \n",
    "\n",
    "        if current == goal:\n",
    "            return reconstruct_path(came_from, current)\n",
    "\n",
    "        close_set.add(current)\n",
    "        \n",
    "        for i, j in directions:      # 对当前节点的 8 个相邻节点一一进行检查\n",
    "            neighbor = current[0] + i, current[1] + j     \n",
    "                             \n",
    "            ## 判断节点是否在地图范围内，并判断是否为障碍物\n",
    "            if 0 <= neighbor[0] < array.shape[0]:\n",
    "                if 0 <= neighbor[1] < array.shape[1]:                \n",
    "                    if array[neighbor[0]][neighbor[1]] == 1:   # 1为障碍物\n",
    "                        continue\n",
    "                else:\n",
    "                    # array bound y walls\n",
    "                    continue\n",
    "            else:\n",
    "                # array bound x walls\n",
    "                continue\n",
    "            \n",
    "            # Ignore the neighbor which is already evaluated.\n",
    "            if neighbor in close_set: \n",
    "                continue\n",
    "            \n",
    "            #  The distance from start to a neighbor via current\n",
    "            tentative_gScore = gscore[current] + dist_between(current, neighbor)\n",
    "                \n",
    "            if  neighbor not in [i[1] for i in openSet]:                # Discover a new node\n",
    "                heappush(openSet, (fscore.get(neighbor, numpy.inf), neighbor)) \n",
    "            elif tentative_gScore >= gscore.get(neighbor, numpy.inf):   # This is not a better path.\n",
    "                continue        \n",
    "                \n",
    "            # This path is the best until now. Record it!\n",
    "            came_from[neighbor] = current\n",
    "            gscore[neighbor] = tentative_gScore\n",
    "            fscore[neighbor] = tentative_gScore + heuristic_cost_estimate(neighbor, goal)\n",
    "                                 \n",
    "    return False\n",
    "\n",
    "\n",
    "\n",
    "if __name__ == \"__main__\":  \n",
    "    nmap = numpy.array([\n",
    "        [0,0,0,0,0,0,0],\n",
    "        [0,0,0,1,0,0,0],\n",
    "        [0,0,0,1,0,0,0],\n",
    "        [0,0,0,1,0,0,0],\n",
    "        [0,0,0,0,0,0,0]])\n",
    "        \n",
    "    path = astar(nmap, (2,3), (6,3))\n",
    "    \n",
    "\n",
    "    for i in range(len(path)):\n",
    "        nmap[path[i]] = 100"
   ]
  }
 ],
 "metadata": {
  "kernelspec": {
   "display_name": "Python 3",
   "language": "python",
   "name": "python3"
  },
  "language_info": {
   "codemirror_mode": {
    "name": "ipython",
    "version": 3
   },
   "file_extension": ".py",
   "mimetype": "text/x-python",
   "name": "python",
   "nbconvert_exporter": "python",
   "pygments_lexer": "ipython3",
   "version": "3.7.0"
  }
 },
 "nbformat": 4,
 "nbformat_minor": 2
}
